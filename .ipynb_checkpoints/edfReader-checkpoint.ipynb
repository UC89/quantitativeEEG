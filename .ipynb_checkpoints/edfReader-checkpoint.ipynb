{
 "cells": [
  {
   "cell_type": "code",
   "execution_count": 370,
   "metadata": {
    "collapsed": true
   },
   "outputs": [],
   "source": [
    "#This is a class for reading edf files in python\n",
    "import os\n",
    "import struct\n",
    "import matplotlib\n",
    "import numpy as np\n",
    "import matplotlib.pyplot as plt\n",
    "%matplotlib inline  "
   ]
  },
  {
   "cell_type": "code",
   "execution_count": 619,
   "metadata": {
    "collapsed": false
   },
   "outputs": [
    {
     "ename": "IndentationError",
     "evalue": "unexpected indent (<ipython-input-619-e7661707e970>, line 2)",
     "output_type": "error",
     "traceback": [
      "\u001b[0;36m  File \u001b[0;32m\"<ipython-input-619-e7661707e970>\"\u001b[0;36m, line \u001b[0;32m2\u001b[0m\n\u001b[0;31m    ver = 0;\u001b[0m\n\u001b[0m    ^\u001b[0m\n\u001b[0;31mIndentationError\u001b[0m\u001b[0;31m:\u001b[0m unexpected indent\n"
     ]
    }
   ],
   "source": [
    "  properties (SetAccess = private)\n",
    "    ver = 0;\n",
    "    patientID = '';\n",
    "    recordID = '';\n",
    "    startDate = '';\n",
    "    startTime = '';\n",
    "    bytes = 0;\n",
    "    records = 0;\n",
    "    duration = 0;\n",
    "    ns = 0;\n",
    "    label = {};\n",
    "    transducer = '';\n",
    "    units = {};\n",
    "    prefilter = '';\n",
    "    samples = [];\n",
    "    sf = [];\n",
    "    conversion = [];\n",
    "    dcOffset = []\n",
    "  end\n",
    "  \n",
    "  properties (SetAccess = private, Hidden)\n",
    "    physicalMin = [];\n",
    "    physicalMax = [];\n",
    "    digitalMin = [];\n",
    "    digitalMax = [];\n",
    "    dataOffset\n",
    "    dataPointer\n",
    "    baseScale = [];\n",
    "    simpleStruct = true;\n",
    "    dpLabelStr = {};\n",
    "    reserved = [];\n",
    "    reserved2 = [];\n",
    "  end"
   ]
  },
  {
   "cell_type": "code",
   "execution_count": 637,
   "metadata": {
    "collapsed": false
   },
   "outputs": [],
   "source": [
    "#Need to add other channel attributes such as analog,digital max and min, \n",
    "class channel(object):\n",
    "    def __init__(self,edfFile,label=None,transducer=None,dimensions=None,\n",
    "                physMin=None,physMax=None,digMin=None,digMax=None,\n",
    "                 preFilter=None,sampleRate=None,notes=None,channelIndex=None,byteLength=None):\n",
    "        self.edfFile = edfFile\n",
    "        self.label = label\n",
    "        self.sampleRate = sampleRate\n",
    "        #self.indexStart = indexStart\n",
    "        self.transducer = transducer\n",
    "        self.dimensions = dimensions\n",
    "        self.physMin = physMin\n",
    "        self.physMax = physMax\n",
    "        self.digMin = digMin\n",
    "        self.digMax = digMax\n",
    "        self.preFilter = preFilter\n",
    "        self.notes  = notes\n",
    "        self.channelIndex = channelIndex\n",
    "        self.byteLength = byteLength\n",
    "    \n",
    "    def __str__(self):\n",
    "        if self.label==None:\n",
    "            return \"None\"\n",
    "        else:\n",
    "            return self.label + \" - \"+str(self.channelIndex)\n",
    "        \n",
    "    def returnData(self,start,duration):\n",
    "        '''\n",
    "        Returns data points for desired area\n",
    "        start: seconds from start of record\n",
    "        duration: time of record desired in seconds\n",
    "        ##########This might be easier to do within original edf class\n",
    "        '''\n",
    "        toReturn = []\n",
    "        seekLocation = int(self.channelIndex + start*2)\n",
    "        numberOfBytes = int(self.sampleRate) * duration * 2\n",
    "        self.edfFile.edfRawData.seek(seekLocation)\n",
    "        print \"Seek Location: \"+str(seekLocation)\n",
    "        print \"Number of Bytes: \"+str(numberOfBytes)\n",
    "        print \"Sample Rate: \"+self.sampleRate\n",
    "        print \"EDF Raw: \"+str(self.edfFile.edfRawData.read(10))\n",
    "        for i in xrange(numberOfBytes):\n",
    "            toReturn.append(struct.unpack('h',self.edfFile.edfRawData.read(2)))\n",
    "            \n",
    "        return toReturn\n",
    "        \n",
    "    def channelIndex(self):\n",
    "        return self.channelIndex\n",
    "    \n",
    "    def notes(self):\n",
    "        return self.notes\n",
    "    \n",
    "    \n",
    "\n",
    "class edfData(object):\n",
    "    def __init__(self,fileId):\n",
    "        self.fileId=fileId\n",
    "        \n",
    "    def __str__(self):\n",
    "        return (\"version: \" + str(self.version) + \"\\nheader Bytes: \" \n",
    "                + str(self.headerBytes) + \"\\nNum Records :\" \n",
    "                + str(self.nRecords) + \"\\nNum Signals :\" + str(self.nSignals) + \"\\nFile Size: \"+str(self.fileSize))\n",
    "                \n",
    "                \n",
    "    def loadFile(self,filepath):\n",
    "        self.filePath = filepath\n",
    "        self.fileSize = os.path.getsize(filepath)\n",
    "        self.edfRawData = open(filepath,'rb')\n",
    "        \n",
    "    def printId(self):\n",
    "        print\"File Id: \"+str(self.fileId)\n",
    "   \n",
    "    def fileParams(self):\n",
    "        print(\"File Size: \"+str(self.fileSize))\n",
    "        \n",
    "    def readBitsTest(self):\n",
    "        self.edfRawData.seek(0)\n",
    "        bits = self.edfRawData.read(100000)\n",
    "        #self.edfRawData.seek(0)\n",
    "        #print(self.edfRawData.read(10))\n",
    "        #print(\"Some Bits: \"+str(bits))\n",
    "        return bits\n",
    "        \n",
    "    def parseEdf(self):\n",
    "        '''\n",
    "            This function parses the edf file getting the values of \n",
    "            the header fields. It also creates a channel object with \n",
    "            information about each channel.\n",
    "        '''\n",
    "        #Header Fields\n",
    "        self.version = self.edfRawData.read(8)\n",
    "        self.patientId = self.edfRawData.read(80)\n",
    "        self.recordId = self.edfRawData.read(80)\n",
    "        self.startDate = self.edfRawData.read(8)\n",
    "        self.startTime = self.edfRawData.read(8)\n",
    "        self.headerBytes = int(self.edfRawData.read(8))\n",
    "        self.reservedBytes = self.edfRawData.read(44)\n",
    "        self.nRecords = int(self.edfRawData.read(8))\n",
    "        self.duration = self.edfRawData.read(8)\n",
    "        self.nSignals = int(self.edfRawData.read(4))\n",
    "        \n",
    "        #Channel Fields\n",
    "        '''\n",
    "        self.labels = self.edfRawData.read(self.nSignals*16).split()\n",
    "        self.transducer = self.edfRawData.read(self.nSignals*80).split()\n",
    "        self.dimensions = self.edfRawData.read(self.nSignals*8).split()\n",
    "        self.physMin = self.edfRawData.read(self.nSignals*8).split()\n",
    "        self.physMax = self.edfRawData.read(self.nSignals*8).split()\n",
    "        self.digMin = self.edfRawData.read(self.nSignals*8).split()\n",
    "        self.digMax = self.edfRawData.read(self.nSignals*8).split()\n",
    "        self.preFilter = self.edfRawData.read(self.nSignals*80).split()\n",
    "        self.sampleRate = self.edfRawData.read(self.nSignals*8).split()\n",
    "        self.reservedNotes = self.edfRawData.read(self.nSignals*32).split()\n",
    "        '''\n",
    "        #This should be changed to be per channel, must add channel class to make more portable\n",
    "        #self.channelLength = 2*int(self.nRecords)*int(self.sampleRate[0])\n",
    "        self.channels = {}\n",
    "        channelFields = ['labels','transducer','dimensions','physMin','physMax','digMin','digMax',\n",
    "                        'preFilter','sampleRate','reservedNotes']\n",
    "        self.channels['labels'] = self.edfRawData.read(self.nSignals*16).split()\n",
    "        self.channels['transducer'] = self.edfRawData.read(self.nSignals*80).split()\n",
    "        self.channels['dimensions'] = self.edfRawData.read(self.nSignals*8).split()\n",
    "        self.channels['physMin'] = self.edfRawData.read(self.nSignals*8).split()\n",
    "        self.channels['physMax'] = self.edfRawData.read(self.nSignals*8).split()\n",
    "        self.channels['digMin'] = self.edfRawData.read(self.nSignals*8).split()\n",
    "        self.channels['digMax'] = self.edfRawData.read(self.nSignals*8).split()\n",
    "        self.channels['preFilter'] = self.edfRawData.read(self.nSignals*80).split()\n",
    "        self.channels['sampleRate'] = self.edfRawData.read(self.nSignals*8).split()\n",
    "        self.channels['reservedNotes'] = self.edfRawData.read(self.nSignals*32).split()\n",
    "        \n",
    "        self.channelObjects = []\n",
    "        channelDataStart = self.headerBytes\n",
    "        \n",
    "        #This loop creates and add channel objects to self.channelObjects\n",
    "        for i in xrange(int(self.nSignals)):\n",
    "            \n",
    "            channelValues ={'filepath':self.filePath}\n",
    "            byteLength = int(self.channels['sampleRate'][i])*self.nRecords*i*2\n",
    "            channelIndex = channelDataStart + byteLength\n",
    "            \n",
    "            for j in channelFields:\n",
    "                try:\n",
    "                    channelValues[j]=(self.channels[j][i])\n",
    "                except:\n",
    "                    channelValues[j] = None\n",
    "            self.channelObjects.append(\n",
    "                channel(self,channelValues['labels'],channelValues['transducer'],\n",
    "                        channelValues['dimensions'],channelValues['physMin'],channelValues['physMax'],\n",
    "                        channelValues['digMin'],channelValues['digMax'],channelValues['preFilter'],\n",
    "                        channelValues['sampleRate'],channelValues['reservedNotes'],\n",
    "                        channelIndex,byteLength))\n",
    "            \n",
    "        '''\n",
    "        for i in xrange(len(self.labels)):\n",
    "            newChannel = channel(self.filePath,self.labels[i],self.transducer[i],\n",
    "                                self.dimensions[i],self.physMin[i],self.physMax[i],\n",
    "                                self.digMin[i],self.digMax[i],self.preFilter[i],\n",
    "                                self.sampleRate[i],self.reservedNotes[i])\n",
    "            self.channels.append(newChannel)\n",
    "        '''  \n",
    "        #self.channelStarts = {}\n",
    "        #for i in xrange(len(self.labels)):\n",
    "        #    self.channelStarts[self.labels[i]] = int(self.channelLength)*i-int(self.headerBytes)\n",
    "\n",
    "        def dataValues(self,timeStart,duration):\n",
    "            '''\n",
    "                Returns data values for all channels \n",
    "                for duration specified from the \n",
    "                desired location of the study\n",
    "            '''\n",
    "            return None\n",
    "        \n",
    "    \n",
    "        #self.edfRawData.seek(240000)\n",
    "        \n",
    "        #print(\"100 Bytes of EEG \\n\"+str(self.edfRawData.read(100)))\n",
    "    def parseTest(self):\n",
    "        print \"version: \" + str(self.version)\n",
    "        print \"header Bytes: \" + str(self.headerBytes)\n",
    "        print \"Num Records :\" + str(self.nRecords)\n",
    "        print \"Num Signals :\" + str(self.nSignals)\n",
    "        '''\n",
    "        print \"Labels: \"+str(self.labels[3])\n",
    "        print \"Num Labels: \"+str(len(self.labels))\n",
    "        print \"Transducer: \"+str(self.transducer)\n",
    "        print \"Dimensions: \"+str(self.dimensions)\n",
    "        print \"physMin: \"+str(self.physMin)\n",
    "        print \"physMax: \"+str(self.physMax)\n",
    "        print \"digMin: \"+str(self.digMin)\n",
    "        print \"digMax: \"+str(self.digMax)\n",
    "        print \"Filter: \"+str(self.preFilter)\n",
    "        print \"Samples in Record: \"+str(self.sampleRate)\n",
    "        print \"Reserved Notes: \"+str(self.reservedNotes)\n",
    "        print \"\"\n",
    "        print \"Channel Byte Length: \"+str(self.channelLength)\n",
    "        print \"Channel Indices: \"+str(self.channelStarts)\n",
    "        '''\n",
    "        \n",
    "        self.sampleDataList = self.channelObjects[1].returnData(2,2)\n",
    "        self.sampleDataList2 = self.channelObjects[2].returnData(2,2)\n",
    "        \n",
    "        print (\"----------------------------------------------\\nChannel Dict: \"+str(self.channels['labels'])+\n",
    "               \"\\n----------------------------------------------\")\n",
    "        \n",
    "        for x in self.channelObjects:\n",
    "            print x\n",
    "        #self.sampleDataList = []    \n",
    "        #for i in xrange(1000):\n",
    "        #    self.sampleDataList.append(struct.unpack('h',self.edfRawData.read(2))[0])\n",
    "        \n",
    "        #print \"Raw Data 1\"+str(float(dataSample))\n",
    "        \n",
    "        \n",
    "        \n",
    "        \n",
    "        \n",
    "        \n",
    "        "
   ]
  },
  {
   "cell_type": "code",
   "execution_count": 638,
   "metadata": {
    "collapsed": false
   },
   "outputs": [
    {
     "name": "stdout",
     "output_type": "stream",
     "text": [
      "42872\n"
     ]
    }
   ],
   "source": [
    "fileSize = os.path.getsize('edfReader.ipynb')\n",
    "print fileSize"
   ]
  },
  {
   "cell_type": "code",
   "execution_count": 639,
   "metadata": {
    "collapsed": false
   },
   "outputs": [
    {
     "name": "stdout",
     "output_type": "stream",
     "text": [
      "File Id: 10\n"
     ]
    }
   ],
   "source": [
    "sampleFile = edfData(10)\n",
    "sampleFile.printId()"
   ]
  },
  {
   "cell_type": "code",
   "execution_count": 640,
   "metadata": {
    "collapsed": false
   },
   "outputs": [
    {
     "name": "stdout",
     "output_type": "stream",
     "text": [
      "version: 0       \n",
      "header Bytes: 6144\n",
      "Num Records :3600\n",
      "Num Signals :23\n",
      "Seek Location: 1849348\n",
      "Number of Bytes: 1024\n",
      "Sample Rate: 256\n",
      "EDF Raw: u\u0000d\u0000Y\u0000?\u0000\u001d",
      "\u0000\n",
      "Seek Location: 3692548\n",
      "Number of Bytes: 1024\n",
      "Sample Rate: 256\n",
      "EDF Raw: \u0017\u0000��������\n",
      "----------------------------------------------\n",
      "Channel Dict: ['FP1-F7', 'F7-T7', 'T7-P7', 'P7-O1', 'FP1-F3', 'F3-C3', 'C3-P3', 'P3-O1', 'FP2-F4', 'F4-C4', 'C4-P4', 'P4-O2', 'FP2-F8', 'F8-T8', 'T8-P8', 'P8-O2', 'FZ-CZ', 'CZ-PZ', 'P7-T7', 'T7-FT9', 'FT9-FT10', 'FT10-T8', 'T8-P8']\n",
      "----------------------------------------------\n",
      "FP1-F7 - 6144\n",
      "F7-T7 - 1849344\n",
      "T7-P7 - 3692544\n",
      "P7-O1 - 5535744\n",
      "FP1-F3 - 7378944\n",
      "F3-C3 - 9222144\n",
      "C3-P3 - 11065344\n",
      "P3-O1 - 12908544\n",
      "FP2-F4 - 14751744\n",
      "F4-C4 - 16594944\n",
      "C4-P4 - 18438144\n",
      "P4-O2 - 20281344\n",
      "FP2-F8 - 22124544\n",
      "F8-T8 - 23967744\n",
      "T8-P8 - 25810944\n",
      "P8-O2 - 27654144\n",
      "FZ-CZ - 29497344\n",
      "CZ-PZ - 31340544\n",
      "P7-T7 - 33183744\n",
      "T7-FT9 - 35026944\n",
      "FT9-FT10 - 36870144\n",
      "FT10-T8 - 38713344\n",
      "T8-P8 - 40556544\n",
      "version: 0       \n",
      "header Bytes: 6144\n",
      "Num Records :3600\n",
      "Num Signals :23\n",
      "File Size: 42399744\n"
     ]
    }
   ],
   "source": [
    "edfFile1 = edfData(1)\n",
    "edfFile1.loadFile(\"chb01_01.edf\")\n",
    "#edfFile1.fileParams()\n",
    "\n",
    "#b = x.read(1)\n",
    "#firstfivebits = b >> 3\n",
    "\n",
    "#\n",
    "\n",
    "edfFile1.parseEdf()\n",
    "edfFile1.parseTest()\n",
    "print(edfFile1)"
   ]
  },
  {
   "cell_type": "code",
   "execution_count": 642,
   "metadata": {
    "collapsed": false
   },
   "outputs": [
    {
     "data": {
      "text/plain": [
       "[<matplotlib.lines.Line2D at 0x1071701d0>]"
      ]
     },
     "execution_count": 642,
     "metadata": {},
     "output_type": "execute_result"
    },
    {
     "data": {
      "image/png": "[encoded data removed]",
      "text/plain": [
       "<matplotlib.figure.Figure at 0x1066c7050>"
      ]
     },
     "metadata": {},
     "output_type": "display_data"
    },
    {
     "data": {
      "image/png": "[encoded data removed]",
      "text/plain": [
       "<matplotlib.figure.Figure at 0x10653f2d0>"
      ]
     },
     "metadata": {},
     "output_type": "display_data"
    }
   ],
   "source": [
    "plt.figure()\n",
    "plt.plot(edfFile1.sampleDataList)\n",
    "plt.figure()\n",
    "plt.plot(edfFile1.sampleDataList2)"
   ]
  },
  {
   "cell_type": "code",
   "execution_count": null,
   "metadata": {
    "collapsed": true
   },
   "outputs": [],
   "source": []
  }
 ],
 "metadata": {
  "kernelspec": {
   "display_name": "Python 2",
   "language": "python",
   "name": "python2"
  },
  "language_info": {
   "codemirror_mode": {
    "name": "ipython",
    "version": 2
   },
   "file_extension": ".py",
   "mimetype": "text/x-python",
   "name": "python",
   "nbconvert_exporter": "python",
   "pygments_lexer": "ipython2",
   "version": "2.7.10"
  }
 },
 "nbformat": 4,
 "nbformat_minor": 2
}
