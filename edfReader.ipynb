{
 "cells": [
  {
   "cell_type": "code",
   "execution_count": 370,
   "metadata": {
    "collapsed": true
   },
   "outputs": [],
   "source": [
    "#This is a class for reading edf files in python\n",
    "import os\n",
    "import struct\n",
    "import matplotlib\n",
    "import numpy as np\n",
    "import matplotlib.pyplot as plt\n",
    "%matplotlib inline  "
   ]
  },
  {
   "cell_type": "code",
   "execution_count": 371,
   "metadata": {
    "collapsed": false
   },
   "outputs": [
    {
     "ename": "IndentationError",
     "evalue": "unexpected indent (<ipython-input-371-e7661707e970>, line 2)",
     "output_type": "error",
     "traceback": [
      "\u001b[0;36m  File \u001b[0;32m\"<ipython-input-371-e7661707e970>\"\u001b[0;36m, line \u001b[0;32m2\u001b[0m\n\u001b[0;31m    ver = 0;\u001b[0m\n\u001b[0m    ^\u001b[0m\n\u001b[0;31mIndentationError\u001b[0m\u001b[0;31m:\u001b[0m unexpected indent\n"
     ]
    }
   ],
   "source": [
    "  properties (SetAccess = private)\n",
    "    ver = 0;\n",
    "    patientID = '';\n",
    "    recordID = '';\n",
    "    startDate = '';\n",
    "    startTime = '';\n",
    "    bytes = 0;\n",
    "    records = 0;\n",
    "    duration = 0;\n",
    "    ns = 0;\n",
    "    label = {};\n",
    "    transducer = '';\n",
    "    units = {};\n",
    "    prefilter = '';\n",
    "    samples = [];\n",
    "    sf = [];\n",
    "    conversion = [];\n",
    "    dcOffset = []\n",
    "  end\n",
    "  \n",
    "  properties (SetAccess = private, Hidden)\n",
    "    physicalMin = [];\n",
    "    physicalMax = [];\n",
    "    digitalMin = [];\n",
    "    digitalMax = [];\n",
    "    dataOffset\n",
    "    dataPointer\n",
    "    baseScale = [];\n",
    "    simpleStruct = true;\n",
    "    dpLabelStr = {};\n",
    "    reserved = [];\n",
    "    reserved2 = [];\n",
    "  end"
   ]
  },
  {
   "cell_type": "code",
   "execution_count": 549,
   "metadata": {
    "collapsed": false
   },
   "outputs": [],
   "source": [
    "#Need to add other channel attributes such as analog,digital max and min, \n",
    "class channel(object):\n",
    "    def __init__(self,edfFile,label=None,transducer=None,dimensions=None,\n",
    "                physMin=None,physMax=None,digMin=None,digMax=None,\n",
    "                 preFilter=None,sampleRate=None,notes=None,channelIndex=None):\n",
    "        self.edfFile = edfFile\n",
    "        self.label = label\n",
    "        self.sampleRate = sampleRate\n",
    "        #self.indexStart = indexStart\n",
    "        self.transducer = transducer\n",
    "        self.dimensions = dimensions\n",
    "        self.physMin = physMin\n",
    "        self.physMax = physMax\n",
    "        self.digMin = digMin\n",
    "        self.digMax = digMax\n",
    "        self.preFilter = preFilter\n",
    "        self.notes  = notes\n",
    "        self.channelIndex = channelIndex\n",
    "    \n",
    "    def __str__(self):\n",
    "        if self.label==None:\n",
    "            return \"None\"\n",
    "        else:\n",
    "            return self.label + \" - \"+str(self.channelIndex)\n",
    "        \n",
    "    def channelIndex(self):\n",
    "        return self.channelIndex\n",
    "    \n",
    "    def notes(self):\n",
    "        return self.notes\n",
    "    \n",
    "    \n",
    "\n",
    "class edfData(object):\n",
    "    def __init__(self,fileId):\n",
    "        self.fileId=fileId\n",
    "        \n",
    "    def __str__(self):\n",
    "        return (\"version: \" + str(self.version) + \"\\nheader Bytes: \" \n",
    "                + str(self.headerBytes) + \"\\nNum Records :\" \n",
    "                + str(self.nRecords) + \"\\nNum Signals :\" + str(self.nSignals) + \"\\nFile Size: \"+str(self.fileSize))\n",
    "                \n",
    "                \n",
    "    def loadFile(self,filepath):\n",
    "        self.filePath = filepath\n",
    "        self.fileSize = os.path.getsize(filepath)\n",
    "        self.edfRawData = open(filepath,'rb')\n",
    "        \n",
    "    def printId(self):\n",
    "        print\"File Id: \"+str(self.fileId)\n",
    "   \n",
    "    def fileParams(self):\n",
    "        print(\"File Size: \"+str(self.fileSize))\n",
    "        \n",
    "    def readBitsTest(self):\n",
    "        self.edfRawData.seek(0)\n",
    "        bits = self.edfRawData.read(100000)\n",
    "        #self.edfRawData.seek(0)\n",
    "        #print(self.edfRawData.read(10))\n",
    "        #print(\"Some Bits: \"+str(bits))\n",
    "        return bits\n",
    "        \n",
    "    def parseEdf(self):\n",
    "        '''\n",
    "            This function parses the edf file getting the values of \n",
    "            the header fields. It also creates a channel object with \n",
    "            information about each channel.\n",
    "        '''\n",
    "        #Header Fields\n",
    "        self.version = self.edfRawData.read(8)\n",
    "        self.patientId = self.edfRawData.read(80)\n",
    "        self.recordId = self.edfRawData.read(80)\n",
    "        self.startDate = self.edfRawData.read(8)\n",
    "        self.startTime = self.edfRawData.read(8)\n",
    "        self.headerBytes = int(self.edfRawData.read(8))\n",
    "        self.reservedBytes = self.edfRawData.read(44)\n",
    "        self.nRecords = int(self.edfRawData.read(8))\n",
    "        self.duration = self.edfRawData.read(8)\n",
    "        self.nSignals = int(self.edfRawData.read(4))\n",
    "        \n",
    "        #Channel Fields\n",
    "        '''\n",
    "        self.labels = self.edfRawData.read(self.nSignals*16).split()\n",
    "        self.transducer = self.edfRawData.read(self.nSignals*80).split()\n",
    "        self.dimensions = self.edfRawData.read(self.nSignals*8).split()\n",
    "        self.physMin = self.edfRawData.read(self.nSignals*8).split()\n",
    "        self.physMax = self.edfRawData.read(self.nSignals*8).split()\n",
    "        self.digMin = self.edfRawData.read(self.nSignals*8).split()\n",
    "        self.digMax = self.edfRawData.read(self.nSignals*8).split()\n",
    "        self.preFilter = self.edfRawData.read(self.nSignals*80).split()\n",
    "        self.sampleRate = self.edfRawData.read(self.nSignals*8).split()\n",
    "        self.reservedNotes = self.edfRawData.read(self.nSignals*32).split()\n",
    "        '''\n",
    "        #This should be changed to be per channel, must add channel class to make more portable\n",
    "        #self.channelLength = 2*int(self.nRecords)*int(self.sampleRate[0])\n",
    "        self.channels = {}\n",
    "        channelFields = ['labels','transducer','dimensions','physMin','physMax','digMin','digMax',\n",
    "                        'preFilter','sampleRate','reservedNotes']\n",
    "        self.channels['labels'] = self.edfRawData.read(self.nSignals*16).split()\n",
    "        self.channels['transducer'] = self.edfRawData.read(self.nSignals*80).split()\n",
    "        self.channels['dimensions'] = self.edfRawData.read(self.nSignals*8).split()\n",
    "        self.channels['physMin'] = self.edfRawData.read(self.nSignals*8).split()\n",
    "        self.channels['physMax'] = self.edfRawData.read(self.nSignals*8).split()\n",
    "        self.channels['digMin'] = self.edfRawData.read(self.nSignals*8).split()\n",
    "        self.channels['digMax'] = self.edfRawData.read(self.nSignals*8).split()\n",
    "        self.channels['preFilter'] = self.edfRawData.read(self.nSignals*80).split()\n",
    "        self.channels['sampleRate'] = self.edfRawData.read(self.nSignals*8).split()\n",
    "        self.channels['reservedNotes'] = self.edfRawData.read(self.nSignals*32).split()\n",
    "        \n",
    "        self.channelObjects = []\n",
    "        channelDataStart = self.headerBytes\n",
    "        \n",
    "        for i in xrange(int(self.nSignals)):\n",
    "            channelValues ={'filepath':self.filePath}\n",
    "            channelIndex = channelDataStart + int(self.channels['sampleRate'][i])*self.nRecords*i*2\n",
    "            for j in channelFields:\n",
    "                try:\n",
    "                    channelValues[j]=(self.channels[j][i])\n",
    "                except:\n",
    "                    channelValues[j] = None\n",
    "            self.channelObjects.append(\n",
    "                channel(channelValues['filepath'],channelValues['labels'],channelValues['transducer'],\n",
    "                        channelValues['dimensions'],channelValues['physMin'],channelValues['physMax'],\n",
    "                        channelValues['digMin'],channelValues['digMax'],channelValues['preFilter'],\n",
    "                        channelValues['sampleRate'],channelValues['reservedNotes'],\n",
    "                        channelIndex))\n",
    "            \n",
    "        '''\n",
    "        for i in xrange(len(self.labels)):\n",
    "            newChannel = channel(self.filePath,self.labels[i],self.transducer[i],\n",
    "                                self.dimensions[i],self.physMin[i],self.physMax[i],\n",
    "                                self.digMin[i],self.digMax[i],self.preFilter[i],\n",
    "                                self.sampleRate[i],self.reservedNotes[i])\n",
    "            self.channels.append(newChannel)\n",
    "        '''  \n",
    "        #self.channelStarts = {}\n",
    "        #for i in xrange(len(self.labels)):\n",
    "        #    self.channelStarts[self.labels[i]] = int(self.channelLength)*i-int(self.headerBytes)\n",
    "\n",
    "        def dataValues(self,timeStart,duration):\n",
    "            '''\n",
    "                Returns data values for all channels \n",
    "                for duration specified from the \n",
    "                desired location of the study\n",
    "            '''\n",
    "            return None\n",
    "        \n",
    "    \n",
    "        #self.edfRawData.seek(240000)\n",
    "        \n",
    "        #print(\"100 Bytes of EEG \\n\"+str(self.edfRawData.read(100)))\n",
    "    def parseTest(self):\n",
    "        print \"version: \" + str(self.version)\n",
    "        print \"header Bytes: \" + str(self.headerBytes)\n",
    "        print \"Num Records :\" + str(self.nRecords)\n",
    "        print \"Num Signals :\" + str(self.nSignals)\n",
    "        '''\n",
    "        print \"Labels: \"+str(self.labels[3])\n",
    "        print \"Num Labels: \"+str(len(self.labels))\n",
    "        print \"Transducer: \"+str(self.transducer)\n",
    "        print \"Dimensions: \"+str(self.dimensions)\n",
    "        print \"physMin: \"+str(self.physMin)\n",
    "        print \"physMax: \"+str(self.physMax)\n",
    "        print \"digMin: \"+str(self.digMin)\n",
    "        print \"digMax: \"+str(self.digMax)\n",
    "        print \"Filter: \"+str(self.preFilter)\n",
    "        print \"Samples in Record: \"+str(self.sampleRate)\n",
    "        print \"Reserved Notes: \"+str(self.reservedNotes)\n",
    "        print \"\"\n",
    "        print \"Channel Byte Length: \"+str(self.channelLength)\n",
    "        print \"Channel Indices: \"+str(self.channelStarts)\n",
    "        '''\n",
    "        self.sampleDataList = []\n",
    "        \n",
    "        print \"----------------------------------------------\\nChannel Dict: \"+str(self.channels['labels'])\n",
    "        \n",
    "        for x in self.channelObjects:\n",
    "            print x\n",
    "            \n",
    "        for i in xrange(1000):\n",
    "            self.sampleDataList.append(struct.unpack('h',self.edfRawData.read(2))[0])\n",
    "            \n",
    "        print self.sampleDataList\n",
    "        \n",
    "        #print \"Raw Data 1\"+str(float(dataSample))\n",
    "        \n",
    "        \n",
    "        \n",
    "        \n",
    "        \n",
    "        "
   ]
  },
  {
   "cell_type": "code",
   "execution_count": 550,
   "metadata": {
    "collapsed": false
   },
   "outputs": [
    {
     "name": "stdout",
     "output_type": "stream",
     "text": [
      "44861\n"
     ]
    }
   ],
   "source": [
    "fileSize = os.path.getsize('edfReader.ipynb')\n",
    "print fileSize"
   ]
  },
  {
   "cell_type": "code",
   "execution_count": 551,
   "metadata": {
    "collapsed": false
   },
   "outputs": [
    {
     "name": "stdout",
     "output_type": "stream",
     "text": [
      "File Id: 10\n"
     ]
    }
   ],
   "source": [
    "sampleFile = edfData(10)\n",
    "sampleFile.printId()"
   ]
  },
  {
   "cell_type": "code",
   "execution_count": 552,
   "metadata": {
    "collapsed": false
   },
   "outputs": [
    {
     "name": "stdout",
     "output_type": "stream",
     "text": [
      "version: 0       \n",
      "header Bytes: 6144\n",
      "Num Records :3600\n",
      "Num Signals :23\n",
      "----------------------------------------------\n",
      "Channel Dict: ['FP1-F7', 'F7-T7', 'T7-P7', 'P7-O1', 'FP1-F3', 'F3-C3', 'C3-P3', 'P3-O1', 'FP2-F4', 'F4-C4', 'C4-P4', 'P4-O2', 'FP2-F8', 'F8-T8', 'T8-P8', 'P8-O2', 'FZ-CZ', 'CZ-PZ', 'P7-T7', 'T7-FT9', 'FT9-FT10', 'FT10-T8', 'T8-P8']\n",
      "FP1-F7 - 6144\n",
      "F7-T7 - 927744\n",
      "T7-P7 - 1849344\n",
      "P7-O1 - 2770944\n",
      "FP1-F3 - 3692544\n",
      "F3-C3 - 4614144\n",
      "C3-P3 - 5535744\n",
      "P3-O1 - 6457344\n",
      "FP2-F4 - 7378944\n",
      "F4-C4 - 8300544\n",
      "C4-P4 - 9222144\n",
      "P4-O2 - 10143744\n",
      "FP2-F8 - 11065344\n",
      "F8-T8 - 11986944\n",
      "T8-P8 - 12908544\n",
      "P8-O2 - 13830144\n",
      "FZ-CZ - 14751744\n",
      "CZ-PZ - 15673344\n",
      "P7-T7 - 16594944\n",
      "T7-FT9 - 17516544\n",
      "FT9-FT10 - 18438144\n",
      "FT10-T8 - 19359744\n",
      "T8-P8 - 20281344\n",
      "[-374, 0, 0, 0, 0, 2, 1, -5, -4, 7, 10, 9, 5, -11, -5, 9, 23, 28, 12, 2, 11, 28, 32, 40, 55, 57, 48, 37, 28, 4, -16, -3, 0, -18, -22, -37, -64, -66, -51, -48, -65, -63, -90, -116, -117, -102, -93, -86, -80, -78, -81, -80, -84, -84, -62, -18, 20, 26, 23, 24, 18, 39, 61, 47, 17, 18, 11, 6, 17, 2, -12, -5, 8, 4, -4, 3, 11, 23, 37, 54, 60, 66, 83, 86, 84, 80, 74, 63, 57, 66, 56, 57, 79, 97, 109, 121, 130, 127, 126, 127, 118, 105, 111, 104, 96, 109, 97, 88, 102, 130, 143, 155, 154, 147, 143, 145, 139, 141, 147, 155, 152, 143, 128, 127, 123, 127, 136, 151, 157, 158, 162, 165, 158, 160, 165, 157, 142, 122, 98, 98, 109, 120, 129, 146, 152, 159, 161, 157, 151, 155, 164, 162, 160, 152, 116, 94, 100, 117, 118, 130, 131, 110, 96, 82, 72, 68, 79, 79, 63, 55, 48, 37, 39, 66, 78, 84, 100, 106, 105, 90, 83, 72, 77, 96, 101, 95, 93, 101, 108, 131, 143, 144, 125, 106, 95, 103, 116, 138, 158, 147, 107, 76, 11, -41, -57, -90, -108, -114, -107, -113, -119, -132, -156, -177, -181, -187, -186, -178, -193, -198, -180, -153, -143, -122, -120, -139, -153, -156, -155, -136, -124, -115, -113, -114, -107, -93, -73, -58, -48, -65, -85, -85, -77, -58, -39, -31, -17, -18, -30, -39, -48, -40, -34, -23, -16, -22, -268, 0, 0, 1, 0, -4, -10, -3, 7, 3, -15, -57, -109, -133, -102, -72, -41, -32, -72, -99, -67, -54, 0, 40, 3, -36, -42, -33, -20, -7, -4, -27, -55, -94, -120, -121, -144, -116, -56, -69, -81, -77, -128, -132, -98, -80, -85, -45, -47, -83, -97, -92, -68, -26, 7, 27, 27, 16, 25, 46, 77, 122, 122, 91, 53, 46, 40, 37, 69, 63, 61, 62, 61, 66, 50, 35, 30, 50, 54, 65, 35, 14, 20, 52, 81, 99, 92, 63, 31, 51, 58, 67, 94, 75, 43, 37, 40, 46, 52, 67, 60, 47, 61, 88, 83, 84, 71, 72, 88, 72, 49, 58, 66, 60, 109, 99, 86, 91, 93, 94, 111, 123, 104, 120, 135, 112, 116, 111, 94, 97, 131, 122, 105, 128, 103, 62, 45, 55, 50, 78, 116, 106, 104, 60, 43, 51, 60, 83, 101, 76, 59, 55, 33, 21, 28, 25, 36, 35, 62, 79, 72, 98, 103, 114, 128, 124, 121, 112, 126, 138, 135, 145, 126, 115, 102, 103, 107, 103, 107, 103, 95, 78, 68, 61, 82, 97, 94, 89, 108, 115, 120, 144, 118, 97, 98, 91, 60, 45, 17, -2, 32, 82, 71, 103, 95, 106, 155, 166, 188, 200, 190, 143, 122, 109, 108, 105, 111, 82, 65, 59, 64, 56, 46, 77, 56, 47, 63, 74, 92, 119, 135, 118, 75, 65, 67, 81, 120, 78, 32, 22, 35, 41, 37, 64, 40, 47, 93, 81, 85, 59, 44, 32, 41, 74, 71, 56, -110, 0, 0, 0, 0, 3, 7, 0, -9, -4, 9, 33, 61, 49, 8, -15, -28, -16, 13, 15, 0, -30, -25, -31, -19, 28, 27, 0, -5, -19, -33, -5, 0, 28, 39, 23, 49, 45, 16, 12, 9, -24, -30, -24, -51, -50, -15, -33, -16, 0, 1, 12, 23, -24, -40, -34, -42, -24, -14, -25, -37, -45, -44, -44, -2, -1, -12, 9, -34, -51, -56, -67, -78, -62, -39, -19, -7, -29, -36, -68, -80, -98, -135, -110, -87, -91, -66, -87, -90, -7, 0, 5, 19, 16, 17, 53, 44, 25, 7, 1, -29, -7, -28, -52, 0, -1, 1, 65, 42, 25, 37, 9, 25, 60, 52, 75, 69, 55, 79, 80, 74, 69, 64, 39, 32, -1, -14, -14, -11, -10, -3, 11, 18, 48, 78, 76, 95, 98, 69, 61, 26, -4, 2, 30, 44, 53, 46, 16, 12, 27, 36, 20, 29, 46, 42, 75, 69, 56, 30, 22, 28, 31, 48, 29, 8, 13, -20, -35, -9, 6, 60, 66, 68, 42, -8, 30, 95, 98, 64, 17, -24, -14, 17, 62, 64, 45, 14, 20, 13, 18, 19, -31, -35, -51, -4, 41, 68, 56, 10, -30, -16, 13, 36, 103, 114, 122, 128, 108, 79, 65, 129, 179, 220, 192, 141, 89, 102, 155, 164, 153, 85, 73, 73, 27, 59, 99, 105, 152, 155, 103, 70, 81, 103, 141, 165, 158, 134, 96, 82, 62, 49, 88, 131, 114, 87, 23, -15, -49, 13, 82, 58, 24, 20, -25, -2, 74, -85, 0, 0, 1, -1, -4, -1, 4, 2, -4, -14, -38, -34, -17, -16, -26, -42, -58, -56, -33, -35, -36, -50, -42, -34, -30, -16, -17, -3, 4, 22, 8, 14, 14, 11, 7, -2, -14, -32, -17, 3, 7, 30, 21, 6, 1, -2, -4, -21, -27, -35, -52, -61, -43, -40, -36, -30, -23, -24, -30, -53, -70, -68, -66, -69, -93, -100, -117, -99, -73, -56, -38, -37, -44, -38, -51, -71, -65, -68, -67, -45, -78, -81, -97, -82, -67, -45, -16, -33, 2, 50, 44, 40, 58, 23, 25, 37, 33, 28, 26, 29, 11, 39, 25, 22, 10, -13, -21, -4, 10, 14, 1, -27, -30, -30, -21, -4, 4, 6, 19, 35, 47, 47, 61, 28, 36, 36, 60, 42, 49, 35, 56, 49, 87, 103, 102, 113, 99, 115, 87, 93, 108, 62, 78, 68, 58, 70, 75, 73, 77, 87, 93, 99, 93, 103, 87, 78, 83, 69, 62, 74, 72, 70, 95, 76, 47, 46, 30, 34, 41, 97, 62, 62, 68, 23, 28, 57, 40, 42, 31, 7, -7, -18, -37, -31, -38, -34, -21, -44, -33, -44, -36, -28, -27, -41, -8, -22, -23, 11, 45, 63, 96, 76, 53, 60, 70, 109, 146, 131, 91, 102, 81, 144, 148, 137, 131, 90, 100, 124, 102, 107, 94, 87, 101, 99, 114, 93, 64, 51, 16, -19, -18]\n",
      "version: 0       \n",
      "header Bytes: 6144\n",
      "Num Records :3600\n",
      "Num Signals :23\n",
      "File Size: 42399744\n"
     ]
    }
   ],
   "source": [
    "edfFile1 = edfData(1)\n",
    "edfFile1.loadFile(\"chb01_01.edf\")\n",
    "#edfFile1.fileParams()\n",
    "\n",
    "#b = x.read(1)\n",
    "#firstfivebits = b >> 3\n",
    "\n",
    "#\n",
    "\n",
    "edfFile1.parseEdf()\n",
    "edfFile1.parseTest()\n",
    "print(edfFile1)"
   ]
  },
  {
   "cell_type": "code",
   "execution_count": 500,
   "metadata": {
    "collapsed": false
   },
   "outputs": [
    {
     "data": {
      "text/plain": [
       "[<matplotlib.lines.Line2D at 0x10651d290>]"
      ]
     },
     "execution_count": 500,
     "metadata": {},
     "output_type": "execute_result"
    },
    {
     "data": {
      "image/png": "[encoded data removed]",
      "text/plain": [
       "<matplotlib.figure.Figure at 0x106205650>"
      ]
     },
     "metadata": {},
     "output_type": "display_data"
    }
   ],
   "source": [
    "plt.figure()\n",
    "plt.plot(edfFile1.sampleDataList)"
   ]
  },
  {
   "cell_type": "code",
   "execution_count": null,
   "metadata": {
    "collapsed": true
   },
   "outputs": [],
   "source": []
  }
 ],
 "metadata": {
  "kernelspec": {
   "display_name": "Python 2",
   "language": "python",
   "name": "python2"
  },
  "language_info": {
   "codemirror_mode": {
    "name": "ipython",
    "version": 2
   },
   "file_extension": ".py",
   "mimetype": "text/x-python",
   "name": "python",
   "nbconvert_exporter": "python",
   "pygments_lexer": "ipython2",
   "version": "2.7.10"
  }
 },
 "nbformat": 4,
 "nbformat_minor": 2
}
